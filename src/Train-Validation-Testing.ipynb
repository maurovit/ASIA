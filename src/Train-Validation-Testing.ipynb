{
 "cells": [
  {
   "cell_type": "markdown",
   "metadata": {},
   "source": [
    "## TRAINING"
   ]
  },
  {
   "cell_type": "code",
   "execution_count": 4,
   "metadata": {},
   "outputs": [
    {
     "name": "stderr",
     "output_type": "stream",
     "text": [
      "Using TensorFlow backend.\n"
     ]
    }
   ],
   "source": [
    "import numpy as np\n",
    "import matplotlib.pyplot as plt\n",
    "import tensorflow as tf\n",
    "import tensorflow as tf\n",
    "\n",
    "from keras.backend.tensorflow_backend import set_session\n",
    "config = tf.ConfigProto()\n",
    "config.gpu_options.allow_growth = True \n",
    "config.log_device_placement = True\n",
    "sess = tf.Session(config=config)\n",
    "set_session(sess)  \n",
    "\n",
    "from matplotlib.pyplot import specgram\n",
    "import keras\n",
    "from keras.preprocessing import sequence\n",
    "from keras.models import Sequential\n",
    "from keras.layers import Dense, Embedding, LSTM\n",
    "from keras.preprocessing.text import Tokenizer\n",
    "from keras.preprocessing.sequence import pad_sequences\n",
    "from keras.utils import to_categorical\n",
    "from keras.utils import np_utils\n",
    "from keras.layers import Input, Flatten, Dropout, Activation\n",
    "from keras.layers import Conv1D, MaxPooling1D, AveragePooling1D\n",
    "from keras.layers.convolutional import Conv2D\n",
    "from keras.layers.convolutional import MaxPooling2D\n",
    "from keras.models import Model\n",
    "from keras.callbacks import ModelCheckpoint\n",
    "from sklearn.utils import shuffle\n",
    "from sklearn.preprocessing import LabelEncoder\n",
    "\n",
    "import cv2\n",
    "import os\n",
    "import pandas as pd\n",
    "import numpy as np\n",
    "import json"
   ]
  },
  {
   "cell_type": "code",
   "execution_count": 20,
   "metadata": {},
   "outputs": [],
   "source": [
    "# DEFINING ALL PARAMETERS\n",
    "\n",
    "# which videos are used for training and validation, which for testing\n",
    "train_val_videos = [2, 3, 4, 5, 6, 7]\n",
    "test_videos = [1]\n",
    "\n",
    "# path to the database\n",
    "path = \"C:\\\\Users\\\\Jelena\\\\Desktop\\\\CV\\\\project\\\\DB\\\\\"\n",
    "\n",
    "# frames per second used for training/validation and testing, max is 60\n",
    "fps_training = 10\n",
    "fps_testing = 20\n",
    "\n",
    "rate_training = 60/fps_training\n",
    "rate_testing = 60/fps_testing\n",
    "\n",
    "num_of_subjects = 62\n",
    "\n",
    "# image size in pixels\n",
    "x = 102\n",
    "y = 102\n",
    "\n",
    "scale_factor_x = round(x/512, 2)\n",
    "scale_factor_y = round(y/512, 2)"
   ]
  },
  {
   "cell_type": "code",
   "execution_count": 21,
   "metadata": {},
   "outputs": [],
   "source": [
    "# INITIALIZING VARIABLES\n",
    "\n",
    "training_list = []\n",
    "testing_list = []\n",
    "\n",
    "training_label = []\n",
    "testing_label = []\n",
    "\n",
    "training_counter = 0\n",
    "testing_counter = 0"
   ]
  },
  {
   "cell_type": "code",
   "execution_count": 22,
   "metadata": {},
   "outputs": [],
   "source": [
    "# LOADING DATA\n",
    "\n",
    "for i in range (1, num_of_subjects+1):   \n",
    "    for name in os.listdir(path + str(i) + '\\\\'):\n",
    "        img = cv2.imread(path + str(i) + '\\\\' + name)\n",
    "        \n",
    "        if(img.size == 786432):\n",
    "            small = cv2.resize(img, (0,0), fx=scale_factor_x, fy=scale_factor_y)\n",
    "            video_number = int(name.split('_')[1])\n",
    "        \n",
    "            if video_number in train_val_videos:\n",
    "                if training_counter % rate_training == 0:\n",
    "                    training_list.append(small)\n",
    "                    training_label.append(str(i))\n",
    "                training_counter += 1\n",
    "        \n",
    "            elif video_number in test_videos:\n",
    "                if testing_counter % rate_testing == 0:\n",
    "                    testing_list.append(small)\n",
    "                    testing_label.append(str(i))\n",
    "                testing_counter += 1"
   ]
  },
  {
   "cell_type": "code",
   "execution_count": 23,
   "metadata": {},
   "outputs": [
    {
     "name": "stdout",
     "output_type": "stream",
     "text": [
      "Training: 7930\n",
      "Testing: 3634\n"
     ]
    }
   ],
   "source": [
    "training_list = np.array(training_list)\n",
    "training_label = np.array(training_label)\n",
    "print(\"Training: \" + str(training_list.shape[0]))\n",
    "\n",
    "testing_list = np.array(testing_list)\n",
    "testing_label = np.array(testing_label)\n",
    "print(\"Testing: \" + str(testing_list.shape[0]))"
   ]
  },
  {
   "cell_type": "code",
   "execution_count": 24,
   "metadata": {},
   "outputs": [],
   "source": [
    "# NORMALIZING AND SHUFFLING TRAINING DATA\n",
    "\n",
    "training_list_normalized = training_list.astype('float32')/255.\n",
    "training_list_normalized = training_list_normalized.reshape(training_list_normalized.shape[0], x*y*3)\n",
    "\n",
    "training_df = pd.DataFrame(training_list_normalized)\n",
    "training_labels_df = pd.DataFrame(training_label)\n",
    "                                 \n",
    "training_vectors = pd.concat([training_df,training_labels_df], axis=1)\n",
    "training_vectors_shuffled = shuffle(training_vectors)"
   ]
  },
  {
   "cell_type": "code",
   "execution_count": 25,
   "metadata": {},
   "outputs": [],
   "source": [
    "# SPLITTING DATA IN TRAINING AND VALIDATION SET\n",
    "\n",
    "newdf1 = np.random.rand(len(training_vectors_shuffled)) < 0.7\n",
    "train = training_vectors_shuffled[newdf1]\n",
    "validation = training_vectors_shuffled[~newdf1]"
   ]
  },
  {
   "cell_type": "code",
   "execution_count": 34,
   "metadata": {},
   "outputs": [],
   "source": [
    "# SPLITTING FEATURE VECTORS AND LABELS\n",
    "\n",
    "trainfeatures = train.iloc[:, :-1]\n",
    "trainlabel = train.iloc[:, -1:]\n",
    "validationfeatures = validation.iloc[:, :-1]\n",
    "validationlabel = validation.iloc[:, -1:]"
   ]
  },
  {
   "cell_type": "code",
   "execution_count": 35,
   "metadata": {},
   "outputs": [],
   "source": [
    "numpy_trainfeatures = trainfeatures.values\n",
    "numpy_trainfeatures = numpy_trainfeatures.reshape(numpy_trainfeatures.shape[0],x,y,3)\n",
    "numpy_label = trainlabel.values\n",
    "\n",
    "numpy_validationfeatures = validationfeatures.values\n",
    "numpy_validationfeatures = numpy_validationfeatures.reshape(numpy_validationfeatures.shape[0],x,y,3)\n",
    "numpy_validationlabel = validationlabel.values"
   ]
  },
  {
   "cell_type": "code",
   "execution_count": 36,
   "metadata": {},
   "outputs": [],
   "source": [
    "# LABELS TO CATEGORICAL\n",
    "\n",
    "lb = LabelEncoder()\n",
    "\n",
    "numpy_trainlabel = np_utils.to_categorical(lb.fit_transform(numpy_label.ravel()))\n",
    "numpy_validationlabel = np_utils.to_categorical(lb.fit_transform(numpy_validationlabel.ravel()))"
   ]
  },
  {
   "cell_type": "code",
   "execution_count": 37,
   "metadata": {},
   "outputs": [],
   "source": [
    "# BUILDING THE MODEL\n",
    "\n",
    "def build_cnn_model():\n",
    "    model = Sequential()\n",
    "    \n",
    "    model.add(Conv2D(32, (3, 3), activation='relu', input_shape=(102,102,3)))\n",
    "    model.add(MaxPooling2D((2, 2)))\n",
    "    model.add(Dropout(0.15))\n",
    "    model.add(Conv2D(68, (3, 3), activation='relu'))\n",
    "    model.add(MaxPooling2D((2, 2)))\n",
    "    model.add(Dropout(0.15))\n",
    "    model.add(Conv2D(68, (3, 3), activation='relu'))\n",
    "    model.add(MaxPooling2D((2, 2)))\n",
    "    model.add(Dropout(0.15))\n",
    "    \n",
    "    model.add(Flatten())\n",
    "    \n",
    "    #model.add(Dropout(0.25))\n",
    "    #model.add(Dense(64, activation='relu'))\n",
    "    \n",
    "    model.add(Dense(128, activation='relu'))\n",
    "    model.add(Dropout(0.15))\n",
    "    \n",
    "    model.add(Dense(62,activation='softmax'))\n",
    "\n",
    "    #opt = keras.optimizers.adam(lr=0.0001, decay=1e-6)\n",
    "    model.compile(optimizer='rmsprop', loss='categorical_crossentropy', metrics=['acc'])\n",
    "    \n",
    "    return model"
   ]
  },
  {
   "cell_type": "code",
   "execution_count": 38,
   "metadata": {},
   "outputs": [
    {
     "name": "stdout",
     "output_type": "stream",
     "text": [
      "_________________________________________________________________\n",
      "Layer (type)                 Output Shape              Param #   \n",
      "=================================================================\n",
      "conv2d_7 (Conv2D)            (None, 100, 100, 32)      896       \n",
      "_________________________________________________________________\n",
      "max_pooling2d_7 (MaxPooling2 (None, 50, 50, 32)        0         \n",
      "_________________________________________________________________\n",
      "dropout_9 (Dropout)          (None, 50, 50, 32)        0         \n",
      "_________________________________________________________________\n",
      "conv2d_8 (Conv2D)            (None, 48, 48, 68)        19652     \n",
      "_________________________________________________________________\n",
      "max_pooling2d_8 (MaxPooling2 (None, 24, 24, 68)        0         \n",
      "_________________________________________________________________\n",
      "dropout_10 (Dropout)         (None, 24, 24, 68)        0         \n",
      "_________________________________________________________________\n",
      "conv2d_9 (Conv2D)            (None, 22, 22, 68)        41684     \n",
      "_________________________________________________________________\n",
      "max_pooling2d_9 (MaxPooling2 (None, 11, 11, 68)        0         \n",
      "_________________________________________________________________\n",
      "dropout_11 (Dropout)         (None, 11, 11, 68)        0         \n",
      "_________________________________________________________________\n",
      "flatten_3 (Flatten)          (None, 8228)              0         \n",
      "_________________________________________________________________\n",
      "dense_5 (Dense)              (None, 128)               1053312   \n",
      "_________________________________________________________________\n",
      "dropout_12 (Dropout)         (None, 128)               0         \n",
      "_________________________________________________________________\n",
      "dense_6 (Dense)              (None, 62)                7998      \n",
      "=================================================================\n",
      "Total params: 1,123,542\n",
      "Trainable params: 1,123,542\n",
      "Non-trainable params: 0\n",
      "_________________________________________________________________\n"
     ]
    }
   ],
   "source": [
    "cnn_model = build_cnn_model()\n",
    "cnn_model.summary()"
   ]
  },
  {
   "cell_type": "code",
   "execution_count": 39,
   "metadata": {
    "scrolled": false
   },
   "outputs": [
    {
     "name": "stdout",
     "output_type": "stream",
     "text": [
      "Train on 5608 samples, validate on 2322 samples\n",
      "Epoch 1/100\n",
      "5608/5608 [==============================] - 63s 11ms/step - loss: 4.0354 - acc: 0.0448 - val_loss: 3.7961 - val_acc: 0.0952\n",
      "Epoch 2/100\n",
      "5608/5608 [==============================] - 20s 4ms/step - loss: 2.9690 - acc: 0.2603 - val_loss: 2.0670 - val_acc: 0.4815\n",
      "Epoch 3/100\n",
      "5608/5608 [==============================] - 20s 4ms/step - loss: 1.9375 - acc: 0.4905 - val_loss: 1.3886 - val_acc: 0.6761\n",
      "Epoch 4/100\n",
      "5608/5608 [==============================] - 20s 4ms/step - loss: 1.3168 - acc: 0.6480 - val_loss: 0.9193 - val_acc: 0.7817\n",
      "Epoch 5/100\n",
      "5608/5608 [==============================] - 21s 4ms/step - loss: 0.9052 - acc: 0.7525 - val_loss: 0.6898 - val_acc: 0.8333\n",
      "Epoch 6/100\n",
      "5608/5608 [==============================] - 20s 4ms/step - loss: 0.6386 - acc: 0.8199 - val_loss: 0.5409 - val_acc: 0.8712\n",
      "Epoch 7/100\n",
      "5608/5608 [==============================] - 20s 4ms/step - loss: 0.5017 - acc: 0.8611 - val_loss: 0.6391 - val_acc: 0.8290\n",
      "Epoch 8/100\n",
      "5608/5608 [==============================] - 20s 4ms/step - loss: 0.3941 - acc: 0.8834 - val_loss: 0.5331 - val_acc: 0.8682\n",
      "Epoch 9/100\n",
      "5608/5608 [==============================] - 20s 3ms/step - loss: 0.2936 - acc: 0.9064 - val_loss: 0.4593 - val_acc: 0.8889\n",
      "Epoch 10/100\n",
      "5608/5608 [==============================] - 20s 3ms/step - loss: 0.2458 - acc: 0.9260 - val_loss: 0.4034 - val_acc: 0.9048\n",
      "Epoch 11/100\n",
      "5608/5608 [==============================] - 20s 4ms/step - loss: 0.2008 - acc: 0.9381 - val_loss: 0.3890 - val_acc: 0.9104\n",
      "Epoch 12/100\n",
      "5608/5608 [==============================] - 19s 3ms/step - loss: 0.1503 - acc: 0.9552 - val_loss: 0.3332 - val_acc: 0.9285\n",
      "Epoch 13/100\n",
      "5608/5608 [==============================] - 19s 3ms/step - loss: 0.1535 - acc: 0.9549 - val_loss: 0.3451 - val_acc: 0.9169\n",
      "Epoch 14/100\n",
      "5608/5608 [==============================] - 20s 4ms/step - loss: 0.1157 - acc: 0.9649 - val_loss: 0.3589 - val_acc: 0.9208\n",
      "Epoch 15/100\n",
      "5608/5608 [==============================] - 20s 4ms/step - loss: 0.0964 - acc: 0.9686 - val_loss: 0.5022 - val_acc: 0.8932\n",
      "Epoch 16/100\n",
      "5608/5608 [==============================] - 20s 3ms/step - loss: 0.0904 - acc: 0.9736 - val_loss: 0.3152 - val_acc: 0.9358\n",
      "Epoch 17/100\n",
      "5608/5608 [==============================] - 20s 4ms/step - loss: 0.0947 - acc: 0.9702 - val_loss: 0.3340 - val_acc: 0.9332\n",
      "Epoch 18/100\n",
      "5608/5608 [==============================] - 20s 4ms/step - loss: 0.0734 - acc: 0.9763 - val_loss: 0.3361 - val_acc: 0.9388\n",
      "Epoch 19/100\n",
      "5608/5608 [==============================] - 19s 3ms/step - loss: 0.0749 - acc: 0.9754 - val_loss: 0.3477 - val_acc: 0.9358\n",
      "Epoch 20/100\n",
      "5608/5608 [==============================] - 20s 3ms/step - loss: 0.0681 - acc: 0.9788 - val_loss: 0.3303 - val_acc: 0.9410\n",
      "Epoch 21/100\n",
      "5608/5608 [==============================] - 19s 3ms/step - loss: 0.0742 - acc: 0.9774 - val_loss: 0.3069 - val_acc: 0.9384\n",
      "Epoch 22/100\n",
      "5608/5608 [==============================] - 20s 4ms/step - loss: 0.0574 - acc: 0.9825 - val_loss: 0.3288 - val_acc: 0.9337\n",
      "Epoch 23/100\n",
      "5608/5608 [==============================] - 20s 3ms/step - loss: 0.0524 - acc: 0.9845 - val_loss: 0.3200 - val_acc: 0.9388\n",
      "Epoch 24/100\n",
      "5608/5608 [==============================] - 20s 4ms/step - loss: 0.0544 - acc: 0.9832 - val_loss: 0.4090 - val_acc: 0.9251\n",
      "Epoch 25/100\n",
      "5608/5608 [==============================] - 20s 4ms/step - loss: 0.0495 - acc: 0.9852 - val_loss: 0.3240 - val_acc: 0.9432\n",
      "Epoch 26/100\n",
      "5608/5608 [==============================] - 19s 3ms/step - loss: 0.0399 - acc: 0.9882 - val_loss: 0.3289 - val_acc: 0.9462\n",
      "Epoch 27/100\n",
      "5608/5608 [==============================] - 19s 3ms/step - loss: 0.0467 - acc: 0.9861 - val_loss: 0.3418 - val_acc: 0.9401\n",
      "Epoch 28/100\n",
      "5608/5608 [==============================] - 20s 4ms/step - loss: 0.0423 - acc: 0.9863 - val_loss: 0.3230 - val_acc: 0.9406\n",
      "Epoch 29/100\n",
      "5608/5608 [==============================] - 20s 3ms/step - loss: 0.0410 - acc: 0.9889 - val_loss: 0.3698 - val_acc: 0.9384\n",
      "Epoch 30/100\n",
      "5608/5608 [==============================] - 20s 4ms/step - loss: 0.0348 - acc: 0.9913 - val_loss: 0.3446 - val_acc: 0.9419\n",
      "Epoch 31/100\n",
      "5608/5608 [==============================] - 20s 4ms/step - loss: 0.0351 - acc: 0.9907 - val_loss: 0.3499 - val_acc: 0.9432\n",
      "Epoch 32/100\n",
      "5608/5608 [==============================] - 20s 3ms/step - loss: 0.0410 - acc: 0.9888 - val_loss: 0.3550 - val_acc: 0.9332\n",
      "Epoch 33/100\n",
      "5608/5608 [==============================] - 20s 4ms/step - loss: 0.0304 - acc: 0.9900 - val_loss: 0.3461 - val_acc: 0.9444\n",
      "Epoch 34/100\n",
      "5608/5608 [==============================] - 19s 3ms/step - loss: 0.0383 - acc: 0.9868 - val_loss: 0.3291 - val_acc: 0.9440\n",
      "Epoch 35/100\n",
      "5608/5608 [==============================] - 19s 3ms/step - loss: 0.0313 - acc: 0.9916 - val_loss: 0.3123 - val_acc: 0.9500\n",
      "Epoch 36/100\n",
      "5608/5608 [==============================] - 20s 4ms/step - loss: 0.0353 - acc: 0.9891 - val_loss: 0.3311 - val_acc: 0.9457\n",
      "Epoch 37/100\n",
      "5608/5608 [==============================] - 20s 3ms/step - loss: 0.0210 - acc: 0.9934 - val_loss: 0.3663 - val_acc: 0.9449\n",
      "Epoch 38/100\n",
      "5608/5608 [==============================] - 20s 4ms/step - loss: 0.0346 - acc: 0.9891 - val_loss: 0.3819 - val_acc: 0.9388\n",
      "Epoch 39/100\n",
      "5608/5608 [==============================] - 20s 4ms/step - loss: 0.0320 - acc: 0.9897 - val_loss: 0.3419 - val_acc: 0.9457\n",
      "Epoch 40/100\n",
      "5608/5608 [==============================] - 19s 3ms/step - loss: 0.0231 - acc: 0.9927 - val_loss: 0.3297 - val_acc: 0.9475\n",
      "Epoch 41/100\n",
      "5608/5608 [==============================] - 19s 3ms/step - loss: 0.0247 - acc: 0.9911 - val_loss: 0.3618 - val_acc: 0.9500\n",
      "Epoch 42/100\n",
      "5608/5608 [==============================] - 20s 4ms/step - loss: 0.0258 - acc: 0.9916 - val_loss: 0.3637 - val_acc: 0.9440\n",
      "Epoch 43/100\n",
      "5608/5608 [==============================] - 20s 3ms/step - loss: 0.0267 - acc: 0.9923 - val_loss: 0.3648 - val_acc: 0.9427\n",
      "Epoch 44/100\n",
      "5608/5608 [==============================] - 19s 3ms/step - loss: 0.0236 - acc: 0.9923 - val_loss: 0.3741 - val_acc: 0.9449\n",
      "Epoch 45/100\n",
      "5608/5608 [==============================] - 20s 3ms/step - loss: 0.0189 - acc: 0.9936 - val_loss: 0.3397 - val_acc: 0.9505\n",
      "Epoch 46/100\n",
      "5608/5608 [==============================] - 20s 4ms/step - loss: 0.0269 - acc: 0.9905 - val_loss: 0.3895 - val_acc: 0.9371\n",
      "Epoch 47/100\n",
      "5608/5608 [==============================] - 19s 3ms/step - loss: 0.0245 - acc: 0.9916 - val_loss: 0.3751 - val_acc: 0.9470\n",
      "Epoch 48/100\n",
      "5608/5608 [==============================] - 20s 3ms/step - loss: 0.0173 - acc: 0.9938 - val_loss: 0.4356 - val_acc: 0.9419\n",
      "Epoch 49/100\n",
      "5608/5608 [==============================] - 20s 4ms/step - loss: 0.0169 - acc: 0.9948 - val_loss: 0.3700 - val_acc: 0.9470\n",
      "Epoch 50/100\n",
      "5608/5608 [==============================] - 20s 4ms/step - loss: 0.0199 - acc: 0.9947 - val_loss: 0.3657 - val_acc: 0.9479\n",
      "Epoch 51/100\n",
      "5608/5608 [==============================] - 20s 3ms/step - loss: 0.0247 - acc: 0.9930 - val_loss: 0.3977 - val_acc: 0.9410\n",
      "Epoch 52/100\n",
      "5608/5608 [==============================] - 20s 3ms/step - loss: 0.0179 - acc: 0.9950 - val_loss: 0.3538 - val_acc: 0.9531\n",
      "Epoch 53/100\n",
      "5608/5608 [==============================] - 20s 4ms/step - loss: 0.0256 - acc: 0.9920 - val_loss: 0.3791 - val_acc: 0.9462\n",
      "Epoch 54/100\n",
      "5608/5608 [==============================] - 20s 3ms/step - loss: 0.0161 - acc: 0.9950 - val_loss: 0.3704 - val_acc: 0.9509\n",
      "Epoch 55/100\n",
      "5608/5608 [==============================] - 19s 3ms/step - loss: 0.0173 - acc: 0.9939 - val_loss: 0.4074 - val_acc: 0.9475\n",
      "Epoch 56/100\n",
      "5608/5608 [==============================] - 19s 3ms/step - loss: 0.0179 - acc: 0.9932 - val_loss: 0.3841 - val_acc: 0.9488\n",
      "Epoch 57/100\n",
      "5608/5608 [==============================] - 20s 4ms/step - loss: 0.0154 - acc: 0.9959 - val_loss: 0.4118 - val_acc: 0.9410\n",
      "Epoch 58/100\n",
      "5608/5608 [==============================] - 20s 4ms/step - loss: 0.0261 - acc: 0.9920 - val_loss: 0.3715 - val_acc: 0.9509\n",
      "Epoch 59/100\n",
      "5608/5608 [==============================] - 19s 3ms/step - loss: 0.0147 - acc: 0.9957 - val_loss: 0.3764 - val_acc: 0.9492\n",
      "Epoch 60/100\n"
     ]
    },
    {
     "name": "stdout",
     "output_type": "stream",
     "text": [
      "5608/5608 [==============================] - 20s 4ms/step - loss: 0.0252 - acc: 0.9941 - val_loss: 0.3761 - val_acc: 0.9470\n",
      "Epoch 61/100\n",
      "5608/5608 [==============================] - 20s 4ms/step - loss: 0.0108 - acc: 0.9973 - val_loss: 0.4945 - val_acc: 0.9341\n",
      "Epoch 62/100\n",
      "5608/5608 [==============================] - 20s 4ms/step - loss: 0.0203 - acc: 0.9947 - val_loss: 0.3616 - val_acc: 0.9457\n",
      "Epoch 63/100\n",
      "5608/5608 [==============================] - 20s 4ms/step - loss: 0.0195 - acc: 0.9957 - val_loss: 0.3723 - val_acc: 0.9513\n",
      "Epoch 64/100\n",
      "5608/5608 [==============================] - 20s 3ms/step - loss: 0.0129 - acc: 0.9952 - val_loss: 0.4465 - val_acc: 0.9462\n",
      "Epoch 65/100\n",
      "5608/5608 [==============================] - 19s 3ms/step - loss: 0.0197 - acc: 0.9945 - val_loss: 0.4109 - val_acc: 0.9518\n",
      "Epoch 66/100\n",
      "5608/5608 [==============================] - 20s 4ms/step - loss: 0.0144 - acc: 0.9959 - val_loss: 0.4139 - val_acc: 0.9488\n",
      "Epoch 67/100\n",
      "5608/5608 [==============================] - 20s 4ms/step - loss: 0.0215 - acc: 0.9920 - val_loss: 0.4400 - val_acc: 0.9483\n",
      "Epoch 68/100\n",
      "5608/5608 [==============================] - 20s 3ms/step - loss: 0.0148 - acc: 0.9957 - val_loss: 0.4223 - val_acc: 0.9449\n",
      "Epoch 69/100\n",
      "5608/5608 [==============================] - 20s 4ms/step - loss: 0.0154 - acc: 0.9957 - val_loss: 0.4157 - val_acc: 0.9444\n",
      "Epoch 70/100\n",
      "5608/5608 [==============================] - 20s 4ms/step - loss: 0.0101 - acc: 0.9966 - val_loss: 0.3998 - val_acc: 0.9483\n",
      "Epoch 71/100\n",
      "5608/5608 [==============================] - 20s 4ms/step - loss: 0.0229 - acc: 0.9925 - val_loss: 0.4084 - val_acc: 0.9492\n",
      "Epoch 72/100\n",
      "5608/5608 [==============================] - 20s 4ms/step - loss: 0.0160 - acc: 0.9954 - val_loss: 0.4495 - val_acc: 0.9345\n",
      "Epoch 73/100\n",
      "5608/5608 [==============================] - 20s 3ms/step - loss: 0.0143 - acc: 0.9943 - val_loss: 0.3415 - val_acc: 0.9531\n",
      "Epoch 74/100\n",
      "5608/5608 [==============================] - 20s 4ms/step - loss: 0.0114 - acc: 0.9971 - val_loss: 0.4178 - val_acc: 0.9444\n",
      "Epoch 75/100\n",
      "5608/5608 [==============================] - 19s 3ms/step - loss: 0.0144 - acc: 0.9952 - val_loss: 0.4286 - val_acc: 0.9518\n",
      "Epoch 76/100\n",
      "5608/5608 [==============================] - 20s 3ms/step - loss: 0.0176 - acc: 0.9952 - val_loss: 0.4320 - val_acc: 0.9479\n",
      "Epoch 77/100\n",
      "5608/5608 [==============================] - 20s 4ms/step - loss: 0.0155 - acc: 0.9954 - val_loss: 0.4110 - val_acc: 0.9432\n",
      "Epoch 78/100\n",
      "5608/5608 [==============================] - 20s 4ms/step - loss: 0.0128 - acc: 0.9952 - val_loss: 0.4085 - val_acc: 0.9457\n",
      "Epoch 79/100\n",
      "5608/5608 [==============================] - 20s 4ms/step - loss: 0.0119 - acc: 0.9964 - val_loss: 0.4048 - val_acc: 0.9531\n",
      "Epoch 80/100\n",
      "5608/5608 [==============================] - 20s 4ms/step - loss: 0.0184 - acc: 0.9955 - val_loss: 0.4425 - val_acc: 0.9466\n",
      "Epoch 81/100\n",
      "5608/5608 [==============================] - 19s 3ms/step - loss: 0.0105 - acc: 0.9963 - val_loss: 0.3781 - val_acc: 0.9475\n",
      "Epoch 82/100\n",
      "5608/5608 [==============================] - 20s 3ms/step - loss: 0.0171 - acc: 0.9950 - val_loss: 0.3815 - val_acc: 0.9513\n",
      "Epoch 83/100\n",
      "5608/5608 [==============================] - 20s 4ms/step - loss: 0.0113 - acc: 0.9959 - val_loss: 0.4014 - val_acc: 0.9423\n",
      "Epoch 84/100\n",
      "5608/5608 [==============================] - 19s 3ms/step - loss: 0.0184 - acc: 0.9945 - val_loss: 0.3788 - val_acc: 0.9496\n",
      "Epoch 85/100\n",
      "5608/5608 [==============================] - 20s 3ms/step - loss: 0.0081 - acc: 0.9977 - val_loss: 0.4751 - val_acc: 0.9453\n",
      "Epoch 86/100\n",
      "5608/5608 [==============================] - 20s 4ms/step - loss: 0.0173 - acc: 0.9948 - val_loss: 0.3994 - val_acc: 0.9505\n",
      "Epoch 87/100\n",
      "5608/5608 [==============================] - 19s 3ms/step - loss: 0.0118 - acc: 0.9963 - val_loss: 0.4904 - val_acc: 0.9449\n",
      "Epoch 88/100\n",
      "5608/5608 [==============================] - 19s 3ms/step - loss: 0.0116 - acc: 0.9955 - val_loss: 0.4117 - val_acc: 0.9488\n",
      "Epoch 89/100\n",
      "5608/5608 [==============================] - 20s 3ms/step - loss: 0.0045 - acc: 0.9986 - val_loss: 0.4215 - val_acc: 0.9496\n",
      "Epoch 90/100\n",
      "5608/5608 [==============================] - 20s 4ms/step - loss: 0.0153 - acc: 0.9948 - val_loss: 0.3823 - val_acc: 0.9513\n",
      "Epoch 91/100\n",
      "5608/5608 [==============================] - 20s 4ms/step - loss: 0.0159 - acc: 0.9957 - val_loss: 0.3870 - val_acc: 0.9526\n",
      "Epoch 92/100\n",
      "5608/5608 [==============================] - 20s 4ms/step - loss: 0.0141 - acc: 0.9961 - val_loss: 0.4390 - val_acc: 0.9440\n",
      "Epoch 93/100\n",
      "5608/5608 [==============================] - 19s 3ms/step - loss: 0.0115 - acc: 0.9959 - val_loss: 0.3979 - val_acc: 0.9483\n",
      "Epoch 94/100\n",
      "5608/5608 [==============================] - 19s 3ms/step - loss: 0.0123 - acc: 0.9977 - val_loss: 0.4882 - val_acc: 0.9388\n",
      "Epoch 95/100\n",
      "5608/5608 [==============================] - 20s 4ms/step - loss: 0.0150 - acc: 0.9966 - val_loss: 0.4093 - val_acc: 0.9539\n",
      "Epoch 96/100\n",
      "5608/5608 [==============================] - 20s 4ms/step - loss: 0.0131 - acc: 0.9963 - val_loss: 0.4304 - val_acc: 0.9492\n",
      "Epoch 97/100\n",
      "5608/5608 [==============================] - 20s 4ms/step - loss: 0.0103 - acc: 0.9970 - val_loss: 0.4548 - val_acc: 0.9496\n",
      "Epoch 98/100\n",
      "5608/5608 [==============================] - 20s 4ms/step - loss: 0.0120 - acc: 0.9966 - val_loss: 0.4373 - val_acc: 0.9470\n",
      "Epoch 99/100\n",
      "5608/5608 [==============================] - 19s 3ms/step - loss: 0.0123 - acc: 0.9963 - val_loss: 0.4153 - val_acc: 0.9483\n",
      "Epoch 100/100\n",
      "5608/5608 [==============================] - 19s 3ms/step - loss: 0.0099 - acc: 0.9970 - val_loss: 0.4164 - val_acc: 0.9539\n"
     ]
    }
   ],
   "source": [
    "cnn_hist = cnn_model.fit(numpy_trainfeatures , numpy_trainlabel, epochs=100, batch_size=128, validation_data=(numpy_validationfeatures, numpy_validationlabel))"
   ]
  },
  {
   "cell_type": "code",
   "execution_count": 40,
   "metadata": {},
   "outputs": [
    {
     "data": {
      "image/png": "[encoded data removed]",
      "text/plain": [
       "<Figure size 432x288 with 1 Axes>"
      ]
     },
     "metadata": {
      "needs_background": "light"
     },
     "output_type": "display_data"
    }
   ],
   "source": [
    "# PLOTTING ACCURACY\n",
    "\n",
    "plt.plot(cnn_hist.history['acc'])\n",
    "plt.plot(cnn_hist.history['val_acc'])\n",
    "plt.title('model acc')\n",
    "plt.ylabel('acc')\n",
    "plt.xlabel('epoch')\n",
    "plt.legend(['train', 'val'], loc='upper left')\n",
    "plt.savefig('final_acc.png', bbox_inches='tight')\n",
    "plt.show()"
   ]
  },
  {
   "cell_type": "code",
   "execution_count": 41,
   "metadata": {},
   "outputs": [
    {
     "data": {
      "image/png": "[encoded data removed]",
      "text/plain": [
       "<Figure size 432x288 with 1 Axes>"
      ]
     },
     "metadata": {
      "needs_background": "light"
     },
     "output_type": "display_data"
    }
   ],
   "source": [
    "# PLOTTING LOSS\n",
    "\n",
    "plt.plot(cnn_hist.history['loss'])\n",
    "plt.plot(cnn_hist.history['val_loss'])\n",
    "plt.title('model loss')\n",
    "plt.ylabel('loss')\n",
    "plt.xlabel('epoch')\n",
    "plt.legend(['train', 'val'], loc='upper left')\n",
    "plt.savefig('final_loss.png', bbox_inches='tight')\n",
    "plt.show()"
   ]
  },
  {
   "cell_type": "code",
   "execution_count": 42,
   "metadata": {},
   "outputs": [],
   "source": [
    "# PREPARING TESTING DATA\n",
    "\n",
    "testing_list = testing_list.astype('float32')/255.\n",
    "\n",
    "lb = LabelEncoder()\n",
    "testing_label = np_utils.to_categorical(lb.fit_transform(testing_label.ravel()))                                    "
   ]
  },
  {
   "cell_type": "code",
   "execution_count": 43,
   "metadata": {},
   "outputs": [
    {
     "name": "stdout",
     "output_type": "stream",
     "text": [
      "acc: 86.08%\n"
     ]
    }
   ],
   "source": [
    "# EVALUATING THE MODEL\n",
    "\n",
    "result = cnn_model.evaluate(testing_list, testing_label, verbose=0)\n",
    "print (\"%s: %.2f%%\" % (cnn_model.metrics_names[1], result[1]*100))"
   ]
  },
  {
   "cell_type": "code",
   "execution_count": 44,
   "metadata": {},
   "outputs": [
    {
     "name": "stdout",
     "output_type": "stream",
     "text": [
      "Saved trained model at C:\\Users\\Jelena\\Desktop\\CV\\project\\saved_models\\final_model.h5 \n"
     ]
    }
   ],
   "source": [
    "# SAVING THE MODEL\n",
    "\n",
    "model_name = 'final_model.h5'\n",
    "save_dir = os.path.join(os.getcwd(), 'saved_models')\n",
    "\n",
    "if not os.path.isdir(save_dir):\n",
    "    os.makedirs(save_dir)\n",
    "    \n",
    "model_path = os.path.join(save_dir, model_name)\n",
    "cnn_model.save(model_path)\n",
    "print('Saved trained model at %s ' % model_path)\n",
    "\n",
    "model_json = cnn_model.to_json()\n",
    "with open(\"model.json\", \"w\") as json_file:\n",
    "    json_file.write(model_json)"
   ]
  },
  {
   "cell_type": "code",
   "execution_count": 45,
   "metadata": {},
   "outputs": [
    {
     "name": "stdout",
     "output_type": "stream",
     "text": [
      "3634/3634 [==============================] - 15s 4ms/step\n"
     ]
    }
   ],
   "source": [
    "# PREDICTING WITHOUT LABELS AND SAVING TO .CSV FILE\n",
    "\n",
    "preds = cnn_model.predict(testing_list, batch_size=32, verbose=1)\n",
    "\n",
    "max_percentage_predictions = preds.argmax(axis=1)\n",
    "flatten_predictions = max_percentage_predictions.astype(int).flatten()\n",
    "\n",
    "predictions = (lb.inverse_transform((flatten_predictions)))\n",
    "predictions_df = pd.DataFrame({'predictedvalues': predictions})\n",
    "\n",
    "true_values = testing_label.argmax(axis=1)\n",
    "flatten_true_values = true_values.astype(int).flatten()\n",
    "\n",
    "true_values = (lb.inverse_transform((flatten_true_values)))\n",
    "true_values_df = pd.DataFrame({'actualvalues': true_values})\n",
    "\n",
    "predictions_and_truevalues = true_values_df.join(predictions_df)\n",
    "predictions_and_truevalues.to_csv('Predictions.csv', index=False)"
   ]
  }
 ],
 "metadata": {
  "kernelspec": {
   "display_name": "Python 3",
   "language": "python",
   "name": "python3"
  }
 },
 "nbformat": 4,
 "nbformat_minor": 2
}
